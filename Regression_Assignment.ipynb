{
 "cells": [
  {
   "cell_type": "markdown",
   "id": "4a177a09-2290-4e38-9c1c-ecc22b7252f2",
   "metadata": {},
   "source": [
    "## Regression Assignment"
   ]
  },
  {
   "cell_type": "markdown",
   "id": "ed1ee36b-806f-4865-ac42-3fb40d08110b",
   "metadata": {},
   "source": [
    "## 1. Loading and Preprocessing (2 marks):\n"
   ]
  },
  {
   "cell_type": "code",
   "execution_count": 76,
   "id": "667b2a39-4ac3-4951-b648-b1c41f9c3f3b",
   "metadata": {},
   "outputs": [],
   "source": [
    "import pandas as pd\n",
    "import numpy as np\n",
    "import seaborn as sns\n",
    "from sklearn.datasets import fetch_california_housing\n",
    "from sklearn.model_selection import train_test_split\n",
    "from sklearn.preprocessing import StandardScaler\n",
    "from sklearn.metrics import mean_squared_error, mean_absolute_error, r2_score"
   ]
  },
  {
   "cell_type": "code",
   "execution_count": 78,
   "id": "9f104411-5f05-40f9-9aff-e6fdb381c103",
   "metadata": {},
   "outputs": [
    {
     "data": {
      "text/html": [
       "<div>\n",
       "<style scoped>\n",
       "    .dataframe tbody tr th:only-of-type {\n",
       "        vertical-align: middle;\n",
       "    }\n",
       "\n",
       "    .dataframe tbody tr th {\n",
       "        vertical-align: top;\n",
       "    }\n",
       "\n",
       "    .dataframe thead th {\n",
       "        text-align: right;\n",
       "    }\n",
       "</style>\n",
       "<table border=\"1\" class=\"dataframe\">\n",
       "  <thead>\n",
       "    <tr style=\"text-align: right;\">\n",
       "      <th></th>\n",
       "      <th>MedInc</th>\n",
       "      <th>HouseAge</th>\n",
       "      <th>AveRooms</th>\n",
       "      <th>AveBedrms</th>\n",
       "      <th>Population</th>\n",
       "      <th>AveOccup</th>\n",
       "      <th>Latitude</th>\n",
       "      <th>Longitude</th>\n",
       "      <th>MedHouseVal</th>\n",
       "    </tr>\n",
       "  </thead>\n",
       "  <tbody>\n",
       "    <tr>\n",
       "      <th>0</th>\n",
       "      <td>8.3252</td>\n",
       "      <td>41.0</td>\n",
       "      <td>6.984127</td>\n",
       "      <td>1.023810</td>\n",
       "      <td>322.0</td>\n",
       "      <td>2.555556</td>\n",
       "      <td>37.88</td>\n",
       "      <td>-122.23</td>\n",
       "      <td>4.526</td>\n",
       "    </tr>\n",
       "    <tr>\n",
       "      <th>1</th>\n",
       "      <td>8.3014</td>\n",
       "      <td>21.0</td>\n",
       "      <td>6.238137</td>\n",
       "      <td>0.971880</td>\n",
       "      <td>2401.0</td>\n",
       "      <td>2.109842</td>\n",
       "      <td>37.86</td>\n",
       "      <td>-122.22</td>\n",
       "      <td>3.585</td>\n",
       "    </tr>\n",
       "    <tr>\n",
       "      <th>2</th>\n",
       "      <td>7.2574</td>\n",
       "      <td>52.0</td>\n",
       "      <td>8.288136</td>\n",
       "      <td>1.073446</td>\n",
       "      <td>496.0</td>\n",
       "      <td>2.802260</td>\n",
       "      <td>37.85</td>\n",
       "      <td>-122.24</td>\n",
       "      <td>3.521</td>\n",
       "    </tr>\n",
       "    <tr>\n",
       "      <th>3</th>\n",
       "      <td>5.6431</td>\n",
       "      <td>52.0</td>\n",
       "      <td>5.817352</td>\n",
       "      <td>1.073059</td>\n",
       "      <td>558.0</td>\n",
       "      <td>2.547945</td>\n",
       "      <td>37.85</td>\n",
       "      <td>-122.25</td>\n",
       "      <td>3.413</td>\n",
       "    </tr>\n",
       "    <tr>\n",
       "      <th>4</th>\n",
       "      <td>3.8462</td>\n",
       "      <td>52.0</td>\n",
       "      <td>6.281853</td>\n",
       "      <td>1.081081</td>\n",
       "      <td>565.0</td>\n",
       "      <td>2.181467</td>\n",
       "      <td>37.85</td>\n",
       "      <td>-122.25</td>\n",
       "      <td>3.422</td>\n",
       "    </tr>\n",
       "  </tbody>\n",
       "</table>\n",
       "</div>"
      ],
      "text/plain": [
       "   MedInc  HouseAge  AveRooms  AveBedrms  Population  AveOccup  Latitude  \\\n",
       "0  8.3252      41.0  6.984127   1.023810       322.0  2.555556     37.88   \n",
       "1  8.3014      21.0  6.238137   0.971880      2401.0  2.109842     37.86   \n",
       "2  7.2574      52.0  8.288136   1.073446       496.0  2.802260     37.85   \n",
       "3  5.6431      52.0  5.817352   1.073059       558.0  2.547945     37.85   \n",
       "4  3.8462      52.0  6.281853   1.081081       565.0  2.181467     37.85   \n",
       "\n",
       "   Longitude  MedHouseVal  \n",
       "0    -122.23        4.526  \n",
       "1    -122.22        3.585  \n",
       "2    -122.24        3.521  \n",
       "3    -122.25        3.413  \n",
       "4    -122.25        3.422  "
      ]
     },
     "execution_count": 78,
     "metadata": {},
     "output_type": "execute_result"
    }
   ],
   "source": [
    "# Load dataset\n",
    "housing = fetch_california_housing()\n",
    "df = pd.DataFrame(housing.data, columns=housing.feature_names)\n",
    "df[\"MedHouseVal\"] = housing.target\n",
    "df.head()"
   ]
  },
  {
   "cell_type": "code",
   "execution_count": 80,
   "id": "61bdfffe-dfed-4a44-bfe2-e773f20b22b9",
   "metadata": {},
   "outputs": [
    {
     "name": "stdout",
     "output_type": "stream",
     "text": [
      "<class 'pandas.core.frame.DataFrame'>\n",
      "RangeIndex: 20640 entries, 0 to 20639\n",
      "Data columns (total 9 columns):\n",
      " #   Column       Non-Null Count  Dtype  \n",
      "---  ------       --------------  -----  \n",
      " 0   MedInc       20640 non-null  float64\n",
      " 1   HouseAge     20640 non-null  float64\n",
      " 2   AveRooms     20640 non-null  float64\n",
      " 3   AveBedrms    20640 non-null  float64\n",
      " 4   Population   20640 non-null  float64\n",
      " 5   AveOccup     20640 non-null  float64\n",
      " 6   Latitude     20640 non-null  float64\n",
      " 7   Longitude    20640 non-null  float64\n",
      " 8   MedHouseVal  20640 non-null  float64\n",
      "dtypes: float64(9)\n",
      "memory usage: 1.4 MB\n"
     ]
    }
   ],
   "source": [
    "df.info()"
   ]
  },
  {
   "cell_type": "code",
   "execution_count": 82,
   "id": "79361d3f-7026-49d6-82e5-270decba984b",
   "metadata": {},
   "outputs": [
    {
     "data": {
      "text/plain": [
       "MedInc         0\n",
       "HouseAge       0\n",
       "AveRooms       0\n",
       "AveBedrms      0\n",
       "Population     0\n",
       "AveOccup       0\n",
       "Latitude       0\n",
       "Longitude      0\n",
       "MedHouseVal    0\n",
       "dtype: int64"
      ]
     },
     "execution_count": 82,
     "metadata": {},
     "output_type": "execute_result"
    }
   ],
   "source": [
    "# Check for missing values\n",
    "df.isnull().sum()  # No missing values expected"
   ]
  },
  {
   "cell_type": "code",
   "execution_count": 84,
   "id": "481eaa9a-a07c-44ff-8272-8b870b886518",
   "metadata": {},
   "outputs": [
    {
     "data": {
      "text/plain": [
       "0"
      ]
     },
     "execution_count": 84,
     "metadata": {},
     "output_type": "execute_result"
    }
   ],
   "source": [
    "# Check for duplicate values\n",
    "df.duplicated().sum()"
   ]
  },
  {
   "cell_type": "code",
   "execution_count": 86,
   "id": "25e8e8d8-0af7-47b3-95ab-5569d39fda09",
   "metadata": {},
   "outputs": [
    {
     "data": {
      "text/html": [
       "<div>\n",
       "<style scoped>\n",
       "    .dataframe tbody tr th:only-of-type {\n",
       "        vertical-align: middle;\n",
       "    }\n",
       "\n",
       "    .dataframe tbody tr th {\n",
       "        vertical-align: top;\n",
       "    }\n",
       "\n",
       "    .dataframe thead th {\n",
       "        text-align: right;\n",
       "    }\n",
       "</style>\n",
       "<table border=\"1\" class=\"dataframe\">\n",
       "  <thead>\n",
       "    <tr style=\"text-align: right;\">\n",
       "      <th></th>\n",
       "      <th>MedInc</th>\n",
       "      <th>HouseAge</th>\n",
       "      <th>AveRooms</th>\n",
       "      <th>AveBedrms</th>\n",
       "      <th>Population</th>\n",
       "      <th>AveOccup</th>\n",
       "      <th>Latitude</th>\n",
       "      <th>Longitude</th>\n",
       "      <th>MedHouseVal</th>\n",
       "    </tr>\n",
       "  </thead>\n",
       "  <tbody>\n",
       "    <tr>\n",
       "      <th>count</th>\n",
       "      <td>20640.000000</td>\n",
       "      <td>20640.000000</td>\n",
       "      <td>20640.000000</td>\n",
       "      <td>20640.000000</td>\n",
       "      <td>20640.000000</td>\n",
       "      <td>20640.000000</td>\n",
       "      <td>20640.000000</td>\n",
       "      <td>20640.000000</td>\n",
       "      <td>20640.000000</td>\n",
       "    </tr>\n",
       "    <tr>\n",
       "      <th>mean</th>\n",
       "      <td>3.870671</td>\n",
       "      <td>28.639486</td>\n",
       "      <td>5.429000</td>\n",
       "      <td>1.096675</td>\n",
       "      <td>1425.476744</td>\n",
       "      <td>3.070655</td>\n",
       "      <td>35.631861</td>\n",
       "      <td>-119.569704</td>\n",
       "      <td>2.068558</td>\n",
       "    </tr>\n",
       "    <tr>\n",
       "      <th>std</th>\n",
       "      <td>1.899822</td>\n",
       "      <td>12.585558</td>\n",
       "      <td>2.474173</td>\n",
       "      <td>0.473911</td>\n",
       "      <td>1132.462122</td>\n",
       "      <td>10.386050</td>\n",
       "      <td>2.135952</td>\n",
       "      <td>2.003532</td>\n",
       "      <td>1.153956</td>\n",
       "    </tr>\n",
       "    <tr>\n",
       "      <th>min</th>\n",
       "      <td>0.499900</td>\n",
       "      <td>1.000000</td>\n",
       "      <td>0.846154</td>\n",
       "      <td>0.333333</td>\n",
       "      <td>3.000000</td>\n",
       "      <td>0.692308</td>\n",
       "      <td>32.540000</td>\n",
       "      <td>-124.350000</td>\n",
       "      <td>0.149990</td>\n",
       "    </tr>\n",
       "    <tr>\n",
       "      <th>25%</th>\n",
       "      <td>2.563400</td>\n",
       "      <td>18.000000</td>\n",
       "      <td>4.440716</td>\n",
       "      <td>1.006079</td>\n",
       "      <td>787.000000</td>\n",
       "      <td>2.429741</td>\n",
       "      <td>33.930000</td>\n",
       "      <td>-121.800000</td>\n",
       "      <td>1.196000</td>\n",
       "    </tr>\n",
       "    <tr>\n",
       "      <th>50%</th>\n",
       "      <td>3.534800</td>\n",
       "      <td>29.000000</td>\n",
       "      <td>5.229129</td>\n",
       "      <td>1.048780</td>\n",
       "      <td>1166.000000</td>\n",
       "      <td>2.818116</td>\n",
       "      <td>34.260000</td>\n",
       "      <td>-118.490000</td>\n",
       "      <td>1.797000</td>\n",
       "    </tr>\n",
       "    <tr>\n",
       "      <th>75%</th>\n",
       "      <td>4.743250</td>\n",
       "      <td>37.000000</td>\n",
       "      <td>6.052381</td>\n",
       "      <td>1.099526</td>\n",
       "      <td>1725.000000</td>\n",
       "      <td>3.282261</td>\n",
       "      <td>37.710000</td>\n",
       "      <td>-118.010000</td>\n",
       "      <td>2.647250</td>\n",
       "    </tr>\n",
       "    <tr>\n",
       "      <th>max</th>\n",
       "      <td>15.000100</td>\n",
       "      <td>52.000000</td>\n",
       "      <td>141.909091</td>\n",
       "      <td>34.066667</td>\n",
       "      <td>35682.000000</td>\n",
       "      <td>1243.333333</td>\n",
       "      <td>41.950000</td>\n",
       "      <td>-114.310000</td>\n",
       "      <td>5.000010</td>\n",
       "    </tr>\n",
       "  </tbody>\n",
       "</table>\n",
       "</div>"
      ],
      "text/plain": [
       "             MedInc      HouseAge      AveRooms     AveBedrms    Population  \\\n",
       "count  20640.000000  20640.000000  20640.000000  20640.000000  20640.000000   \n",
       "mean       3.870671     28.639486      5.429000      1.096675   1425.476744   \n",
       "std        1.899822     12.585558      2.474173      0.473911   1132.462122   \n",
       "min        0.499900      1.000000      0.846154      0.333333      3.000000   \n",
       "25%        2.563400     18.000000      4.440716      1.006079    787.000000   \n",
       "50%        3.534800     29.000000      5.229129      1.048780   1166.000000   \n",
       "75%        4.743250     37.000000      6.052381      1.099526   1725.000000   \n",
       "max       15.000100     52.000000    141.909091     34.066667  35682.000000   \n",
       "\n",
       "           AveOccup      Latitude     Longitude   MedHouseVal  \n",
       "count  20640.000000  20640.000000  20640.000000  20640.000000  \n",
       "mean       3.070655     35.631861   -119.569704      2.068558  \n",
       "std       10.386050      2.135952      2.003532      1.153956  \n",
       "min        0.692308     32.540000   -124.350000      0.149990  \n",
       "25%        2.429741     33.930000   -121.800000      1.196000  \n",
       "50%        2.818116     34.260000   -118.490000      1.797000  \n",
       "75%        3.282261     37.710000   -118.010000      2.647250  \n",
       "max     1243.333333     41.950000   -114.310000      5.000010  "
      ]
     },
     "execution_count": 86,
     "metadata": {},
     "output_type": "execute_result"
    }
   ],
   "source": [
    "# Check outliers\n",
    "df.describe()"
   ]
  },
  {
   "cell_type": "code",
   "execution_count": 90,
   "id": "546a6d4e-72c9-4912-8a08-284518f52ba4",
   "metadata": {},
   "outputs": [
    {
     "data": {
      "text/plain": [
       "<Axes: >"
      ]
     },
     "execution_count": 90,
     "metadata": {},
     "output_type": "execute_result"
    }
   ],
   "source": [
    "df.boxplot()"
   ]
  },
  {
   "cell_type": "code",
   "execution_count": 92,
   "id": "e7c706ea-2617-463a-bcd0-7e2620c43144",
   "metadata": {},
   "outputs": [
    {
     "data": {
      "text/plain": [
       "MedInc          1.646657\n",
       "HouseAge        0.060331\n",
       "AveRooms       20.697869\n",
       "AveBedrms      31.316956\n",
       "Population      4.935858\n",
       "AveOccup       97.639561\n",
       "Latitude        0.465953\n",
       "Longitude      -0.297801\n",
       "MedHouseVal     0.977763\n",
       "dtype: float64"
      ]
     },
     "execution_count": 92,
     "metadata": {},
     "output_type": "execute_result"
    }
   ],
   "source": [
    "df.select_dtypes(include=['float64', 'int64']).skew()"
   ]
  },
  {
   "cell_type": "code",
   "execution_count": 94,
   "id": "c2385dc1-0e30-4761-b9f6-10ce37983b22",
   "metadata": {},
   "outputs": [
    {
     "data": {
      "text/plain": [
       "Index(['MedInc', 'HouseAge', 'AveRooms', 'AveBedrms', 'Population', 'AveOccup',\n",
       "       'Latitude', 'Longitude', 'MedHouseVal'],\n",
       "      dtype='object')"
      ]
     },
     "execution_count": 94,
     "metadata": {},
     "output_type": "execute_result"
    }
   ],
   "source": [
    "num_cols = df.select_dtypes(include=['float64', 'int64']).columns\n",
    "num_cols"
   ]
  },
  {
   "cell_type": "markdown",
   "id": "7d4c6a27-c741-4a11-a653-a1bad2dd21a7",
   "metadata": {},
   "source": [
    "## Explanation:\n",
    "* StandardScaler ensures features are normalized for models like SVR and Linear Regression.\n",
    "* Splitting ensures fair model evaluation."
   ]
  },
  {
   "cell_type": "markdown",
   "id": "ee6b2057-b5a8-41ea-87d4-e2c5385234cf",
   "metadata": {},
   "source": [
    "## 2. Regression Algorithm Implementation (5 marks):\n"
   ]
  },
  {
   "cell_type": "code",
   "execution_count": 15,
   "id": "74eee631-eec1-4e94-9333-3b1a0e078766",
   "metadata": {},
   "outputs": [],
   "source": [
    "# Split dataset\n",
    "X_train, X_test, y_train, y_test = train_test_split(X_scaled, y, test_size=0.2, random_state=42)"
   ]
  },
  {
   "cell_type": "code",
   "execution_count": 13,
   "id": "e7ec6cea-2036-4f50-8724-32bcd535637d",
   "metadata": {},
   "outputs": [],
   "source": [
    "# Feature Scaling\n",
    "scaler = StandardScaler()\n",
    "X_scaled = scaler.fit_transform(df.drop(\"MedHouseVal\", axis=1))\n",
    "y = df[\"MedHouseVal\"]"
   ]
  },
  {
   "cell_type": "markdown",
   "id": "dfc3bde0-a1aa-479d-a699-41e579f23cb6",
   "metadata": {},
   "source": [
    "### 2.1. Linear Regression"
   ]
  },
  {
   "cell_type": "code",
   "execution_count": 100,
   "id": "b1c29db8-8a6d-4cb5-8953-f8734160d66b",
   "metadata": {},
   "outputs": [
    {
     "name": "stdout",
     "output_type": "stream",
     "text": [
      "Linear Regression:\n",
      "MSE: 0.5558915986952442\n",
      "MAE: 0.5332001304956565\n",
      "R2 Score: 0.575787706032451\n"
     ]
    }
   ],
   "source": [
    "#Linear Regression models the relationship between input features and target as a straight line (linear combination).\n",
    "from sklearn.linear_model import LinearRegression\n",
    "from sklearn.metrics import mean_squared_error, r2_score\n",
    "lr_model = LinearRegression()\n",
    "lr_model.fit(X_train, y_train)\n",
    "lr_pred = lr_model.predict(X_test)\n",
    "# Metrics\n",
    "lr_mse = mean_squared_error(y_test, lr_pred)\n",
    "lr_mae = mean_absolute_error(y_test, lr_pred)\n",
    "lr_r2 = r2_score(y_test, lr_pred)\n",
    "print(\"Linear Regression:\")\n",
    "print(\"MSE:\", lr_mse)\n",
    "print(\"MAE:\", lr_mae)\n",
    "print(\"R2 Score:\", lr_r2)"
   ]
  },
  {
   "cell_type": "markdown",
   "id": "4a895ef7-f5d6-4f55-8304-5e4d5c023155",
   "metadata": {},
   "source": [
    "### Analysis:\n",
    "Linear Regression gives moderate performance. Since housing prices depend on complex, non-linear interactions between features (e.g., location, population), linear models may underfit the data. It's simple and interpretable, but not powerful for capturing complex trends."
   ]
  },
  {
   "cell_type": "markdown",
   "id": "d51ea9ae-fab4-4641-95b5-b3ad5ac354e8",
   "metadata": {},
   "source": [
    "### 2.2. Decision Tree Regressor"
   ]
  },
  {
   "cell_type": "code",
   "execution_count": 104,
   "id": "8aca21d3-998d-463e-93a5-b845b09f7aa2",
   "metadata": {},
   "outputs": [
    {
     "name": "stdout",
     "output_type": "stream",
     "text": [
      "Decision Tree Regressor:\n",
      "MSE: 0.4942716777366763\n",
      "MAE: 0.4537843265503876\n",
      "R2 Score: 0.6228111330554302\n"
     ]
    }
   ],
   "source": [
    "from sklearn.tree import DecisionTreeRegressor\n",
    "dt_model = DecisionTreeRegressor(random_state=42)\n",
    "dt_model.fit(X_train, y_train)\n",
    "dt_pred = dt_model.predict(X_test)\n",
    "# Metrics\n",
    "dt_mse = mean_squared_error(y_test, dt_pred)\n",
    "dt_mae = mean_absolute_error(y_test, dt_pred)\n",
    "dt_r2 = r2_score(y_test, dt_pred)\n",
    "print(\"Decision Tree Regressor:\")\n",
    "print(\"MSE:\", dt_mse)\n",
    "print(\"MAE:\", dt_mae)\n",
    "print(\"R2 Score:\", dt_r2)"
   ]
  },
  {
   "cell_type": "markdown",
   "id": "a213f223-8a6a-40fb-8792-5d3a4cab928f",
   "metadata": {},
   "source": [
    "### Analysis:\n",
    "Better than Linear Regression because it captures non-linearity. However, single decision trees are prone to overfitting. Accuracy may vary depending on tree depth and splits. It’s fast but not the most accurate."
   ]
  },
  {
   "cell_type": "markdown",
   "id": "86cca975-6d03-4f48-a8b6-8c78d6eacc8a",
   "metadata": {},
   "source": [
    "### 2.3. Random Forest Regressor"
   ]
  },
  {
   "cell_type": "code",
   "execution_count": 111,
   "id": "23f72513-5aa1-4f38-baa2-891b430e9c55",
   "metadata": {},
   "outputs": [
    {
     "name": "stdout",
     "output_type": "stream",
     "text": [
      "Random Forest Regressor:\n",
      "MSE: 0.25549776668540763\n",
      "MAE: 0.32761306601259704\n",
      "R2 Score: 0.805024407701793\n"
     ]
    }
   ],
   "source": [
    "from sklearn.ensemble import RandomForestRegressor\n",
    "rf_model = RandomForestRegressor(random_state=42)\n",
    "rf_model.fit(X_train, y_train)\n",
    "rf_pred = rf_model.predict(X_test)\n",
    "# Metrics\n",
    "rf_mse = mean_squared_error(y_test, rf_pred)\n",
    "rf_mae = mean_absolute_error(y_test, rf_pred)\n",
    "rf_r2 = r2_score(y_test, rf_pred)\n",
    "print(\"Random Forest Regressor:\")\n",
    "print(\"MSE:\", rf_mse)\n",
    "print(\"MAE:\", rf_mae)\n",
    "print(\"R2 Score:\", rf_r2)"
   ]
  },
  {
   "cell_type": "markdown",
   "id": "27bb8065-a1f7-41ba-ab80-1be918e163e0",
   "metadata": {},
   "source": [
    "### Analysis:\n",
    "Analysis:\n",
    "Excellent performance due to ensemble learning and averaging, which reduces overfitting. Random Forest captures complex patterns, is robust to outliers, and generalizes well."
   ]
  },
  {
   "cell_type": "markdown",
   "id": "cb2f9e0e-7fad-445f-ba59-8ff51e2b7d0c",
   "metadata": {},
   "source": [
    "### 2.4. Gradient Boosting Regressor"
   ]
  },
  {
   "cell_type": "code",
   "execution_count": 115,
   "id": "8e382df0-5d08-4693-ba95-d04be63beacf",
   "metadata": {},
   "outputs": [
    {
     "name": "stdout",
     "output_type": "stream",
     "text": [
      "Gradient Boosting Regressor:\n",
      "MSE: 0.29399901242474274\n",
      "MAE: 0.37165044848436773\n",
      "R2 Score: 0.7756433164710084\n"
     ]
    }
   ],
   "source": [
    "from sklearn.ensemble import GradientBoostingRegressor\n",
    "gb_model = GradientBoostingRegressor(random_state=42)\n",
    "gb_model.fit(X_train, y_train)\n",
    "gb_pred = gb_model.predict(X_test)\n",
    "# Metrics\n",
    "gb_mse = mean_squared_error(y_test, gb_pred)\n",
    "gb_mae = mean_absolute_error(y_test, gb_pred)\n",
    "gb_r2 = r2_score(y_test, gb_pred)\n",
    "print(\"Gradient Boosting Regressor:\")\n",
    "print(\"MSE:\", gb_mse)\n",
    "print(\"MAE:\", gb_mae)\n",
    "print(\"R2 Score:\", gb_r2)"
   ]
  },
  {
   "cell_type": "markdown",
   "id": "121b6b82-6a41-40a4-b4e4-579d0187501b",
   "metadata": {},
   "source": [
    "### Analysis:\n",
    "Almost as good as Random Forest, sometimes even better with careful tuning. It builds models sequentially to correct previous errors. A strong choice for structured/tabular data."
   ]
  },
  {
   "cell_type": "markdown",
   "id": "9d9e130c-a6fe-4851-8f8c-62e406cb79a4",
   "metadata": {},
   "source": [
    "### 2.5. Support Vector Regressor (SVR)"
   ]
  },
  {
   "cell_type": "code",
   "execution_count": 112,
   "id": "dfd81209-db24-4598-a5fc-02ed81999a44",
   "metadata": {},
   "outputs": [
    {
     "name": "stdout",
     "output_type": "stream",
     "text": [
      "Support Vector Regressor:\n",
      "MSE: 0.3551984619989419\n",
      "MAE: 0.3977630963437859\n",
      "R2 Score: 0.7289407597956462\n"
     ]
    }
   ],
   "source": [
    "from sklearn.svm import SVR\n",
    "svr_model = SVR()\n",
    "svr_model.fit(X_train, y_train)\n",
    "svr_pred = svr_model.predict(X_test)\n",
    "# Metrics\n",
    "svr_mse = mean_squared_error(y_test, svr_pred)\n",
    "svr_mae = mean_absolute_error(y_test, svr_pred)\n",
    "svr_r2 = r2_score(y_test, svr_pred)\n",
    "print(\"Support Vector Regressor:\")\n",
    "print(\"MSE:\", svr_mse)\n",
    "print(\"MAE:\", svr_mae)\n",
    "print(\"R2 Score:\", svr_r2)"
   ]
  },
  {
   "cell_type": "markdown",
   "id": "b67b96cd-bd8a-437c-bb5c-e4611747e643",
   "metadata": {},
   "source": [
    "### Analysis:\n",
    "SVR tends to underperform on large datasets like this, especially if not carefully tuned. It’s also sensitive to feature scaling and parameter choices. It may work better on smaller or cleaner datasets."
   ]
  },
  {
   "cell_type": "code",
   "execution_count": 22,
   "id": "02c77a5e-8807-4bef-9c49-2369eefaa3e1",
   "metadata": {},
   "outputs": [],
   "source": [
    "models = {\n",
    "    \"Linear Regression\": LinearRegression(),\n",
    "    \"Decision Tree\": DecisionTreeRegressor(random_state=42),\n",
    "    \"Random Forest\": RandomForestRegressor(random_state=42),\n",
    "    \"Gradient Boosting\": GradientBoostingRegressor(random_state=42),\n",
    "    \"Support Vector Regressor\": SVR()\n",
    "}\n",
    "results = {}\n",
    "for name, model in models.items():\n",
    "    model.fit(X_train, y_train)\n",
    "    y_pred = model.predict(X_test)\n",
    "    mse = mean_squared_error(y_test, y_pred)\n",
    "    mae = mean_absolute_error(y_test, y_pred)\n",
    "    r2 = r2_score(y_test, y_pred)\n",
    "    results[name] = {\n",
    "        \"MSE\": mse,\n",
    "        \"MAE\": mae,\n",
    "        \"R2\": r2\n",
    "    }"
   ]
  },
  {
   "cell_type": "code",
   "execution_count": 24,
   "id": "315c2896-ac7c-42aa-8737-df0be70ebc4a",
   "metadata": {},
   "outputs": [
    {
     "data": {
      "text/html": [
       "<div>\n",
       "<style scoped>\n",
       "    .dataframe tbody tr th:only-of-type {\n",
       "        vertical-align: middle;\n",
       "    }\n",
       "\n",
       "    .dataframe tbody tr th {\n",
       "        vertical-align: top;\n",
       "    }\n",
       "\n",
       "    .dataframe thead th {\n",
       "        text-align: right;\n",
       "    }\n",
       "</style>\n",
       "<table border=\"1\" class=\"dataframe\">\n",
       "  <thead>\n",
       "    <tr style=\"text-align: right;\">\n",
       "      <th></th>\n",
       "      <th>MSE</th>\n",
       "      <th>MAE</th>\n",
       "      <th>R2</th>\n",
       "    </tr>\n",
       "  </thead>\n",
       "  <tbody>\n",
       "    <tr>\n",
       "      <th>Random Forest</th>\n",
       "      <td>0.255498</td>\n",
       "      <td>0.327613</td>\n",
       "      <td>0.805024</td>\n",
       "    </tr>\n",
       "    <tr>\n",
       "      <th>Gradient Boosting</th>\n",
       "      <td>0.293999</td>\n",
       "      <td>0.371650</td>\n",
       "      <td>0.775643</td>\n",
       "    </tr>\n",
       "    <tr>\n",
       "      <th>Support Vector Regressor</th>\n",
       "      <td>0.355198</td>\n",
       "      <td>0.397763</td>\n",
       "      <td>0.728941</td>\n",
       "    </tr>\n",
       "    <tr>\n",
       "      <th>Decision Tree</th>\n",
       "      <td>0.494272</td>\n",
       "      <td>0.453784</td>\n",
       "      <td>0.622811</td>\n",
       "    </tr>\n",
       "    <tr>\n",
       "      <th>Linear Regression</th>\n",
       "      <td>0.555892</td>\n",
       "      <td>0.533200</td>\n",
       "      <td>0.575788</td>\n",
       "    </tr>\n",
       "  </tbody>\n",
       "</table>\n",
       "</div>"
      ],
      "text/plain": [
       "                               MSE       MAE        R2\n",
       "Random Forest             0.255498  0.327613  0.805024\n",
       "Gradient Boosting         0.293999  0.371650  0.775643\n",
       "Support Vector Regressor  0.355198  0.397763  0.728941\n",
       "Decision Tree             0.494272  0.453784  0.622811\n",
       "Linear Regression         0.555892  0.533200  0.575788"
      ]
     },
     "execution_count": 24,
     "metadata": {},
     "output_type": "execute_result"
    }
   ],
   "source": [
    "# compare model performance\n",
    "results_df = pd.DataFrame(results).T\n",
    "results_df = results_df.sort_values(\"R2\", ascending=False)\n",
    "results_df"
   ]
  },
  {
   "cell_type": "markdown",
   "id": "d5669172-931b-4ee0-84aa-15618abd6109",
   "metadata": {},
   "source": [
    "## 3. Model Evaluation and Comparison (2 marks):\n",
    "\n"
   ]
  },
  {
   "cell_type": "code",
   "execution_count": 122,
   "id": "d1f2389a-08a0-4a94-bef7-4fd9ddebaf99",
   "metadata": {},
   "outputs": [
    {
     "name": "stdout",
     "output_type": "stream",
     "text": [
      "               Model       MSE       MAE  R2 Score\n",
      "0  Linear Regression  0.555892  0.533200  0.575788\n",
      "1      Decision Tree  0.494272  0.453784  0.622811\n",
      "4                SVR  0.355198  0.397763  0.728941\n",
      "3  Gradient Boosting  0.293999  0.371650  0.775643\n",
      "2      Random Forest  0.255498  0.327613  0.805024\n"
     ]
    }
   ],
   "source": [
    "# Create a results DataFrame\n",
    "comparison_df = pd.DataFrame({\n",
    "    \"Model\": [\"Linear Regression\", \"Decision Tree\", \"Random Forest\", \"Gradient Boosting\", \"SVR\"],\n",
    "    \"MSE\": [lr_mse, dt_mse, rf_mse, gb_mse, svr_mse],\n",
    "    \"MAE\": [lr_mae, dt_mae, rf_mae, gb_mae, svr_mae],\n",
    "    \"R2 Score\": [lr_r2, dt_r2, rf_r2, gb_r2, svr_r2]\n",
    "})\n",
    "# Sort by R2 Score descending\n",
    "comparison_df = comparison_df.sort_values(by=\"R2 Score\")\n",
    "print(comparison_df)"
   ]
  },
  {
   "cell_type": "markdown",
   "id": "1f1a4c79-b1c7-4a24-a2df-17fc845845d5",
   "metadata": {},
   "source": [
    "### Analysis\n",
    "Among all the regression models applied to the California Housing dataset, Random Forest Regressor emerged as the best-performing algorithm, achieving the lowest Mean Squared Error (MSE) and Mean Absolute Error (MAE), along with the highest R² score. Gradient Boosting Regressor followed closely behind, also showing strong performance with slightly higher errors but still a high R² score, indicating a good fit to the data. Linear Regression and Decision Tree Regressor showed moderate performance, with Decision Tree slightly outperforming Linear Regression due to its ability to model non-linear patterns. However, both were clearly outperformed by the ensemble methods. Support Vector Regressor (SVR) had the weakest results, with the highest error values and the lowest R² score, likely due to its sensitivity to feature scaling and inefficiency with larger datasets. Overall, ensemble methods like Random Forest and Gradient Boosting proved to be the most effective for this regression task."
   ]
  }
 ],
 "metadata": {
  "kernelspec": {
   "display_name": "Python [conda env:base] *",
   "language": "python",
   "name": "conda-base-py"
  },
  "language_info": {
   "codemirror_mode": {
    "name": "ipython",
    "version": 3
   },
   "file_extension": ".py",
   "mimetype": "text/x-python",
   "name": "python",
   "nbconvert_exporter": "python",
   "pygments_lexer": "ipython3",
   "version": "3.12.7"
  }
 },
 "nbformat": 4,
 "nbformat_minor": 5
}
